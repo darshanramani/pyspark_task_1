{
 "cells": [
  {
   "cell_type": "code",
   "execution_count": 0,
   "metadata": {
    "application/vnd.databricks.v1+cell": {
     "cellMetadata": {
      "byteLimit": 2048000,
      "rowLimit": 10000
     },
     "inputWidgets": {},
     "nuid": "c6c2838b-fe54-4b35-b726-406f5b457301",
     "showTitle": false,
     "title": ""
    }
   },
   "outputs": [
    {
     "output_type": "display_data",
     "data": {
      "text/html": [
       "<style scoped>\n",
       "  .table-result-container {\n",
       "    max-height: 300px;\n",
       "    overflow: auto;\n",
       "  }\n",
       "  table, th, td {\n",
       "    border: 1px solid black;\n",
       "    border-collapse: collapse;\n",
       "  }\n",
       "  th, td {\n",
       "    padding: 5px;\n",
       "  }\n",
       "  th {\n",
       "    text-align: left;\n",
       "  }\n",
       "</style><div class='table-result-container'><table class='table-result'><thead style='background-color: white'><tr><th>GRADE</th><th>ROll_NO</th><th>Date</th><th>MARKS</th></tr></thead><tbody><tr><td>A</td><td>1</td><td>2003-05-23</td><td>100</td></tr><tr><td>B</td><td>2</td><td>2003-05-23</td><td>200</td></tr><tr><td>A</td><td>4</td><td>2003-05-23</td><td>200</td></tr><tr><td>B</td><td>3</td><td>2003-05-22</td><td>200</td></tr><tr><td>A</td><td>5</td><td>2003-05-21</td><td>500</td></tr></tbody></table></div>"
      ]
     },
     "metadata": {
      "application/vnd.databricks.v1+output": {
       "addedWidgets": {},
       "aggData": [],
       "aggError": "",
       "aggOverflow": false,
       "aggSchema": [],
       "aggSeriesLimitReached": false,
       "aggType": "",
       "arguments": {},
       "columnCustomDisplayInfos": {},
       "data": [
        [
         "A",
         1,
         "2003-05-23",
         100
        ],
        [
         "B",
         2,
         "2003-05-23",
         200
        ],
        [
         "A",
         4,
         "2003-05-23",
         200
        ],
        [
         "B",
         3,
         "2003-05-22",
         200
        ],
        [
         "A",
         5,
         "2003-05-21",
         500
        ]
       ],
       "datasetInfos": [],
       "dbfsResultPath": null,
       "isJsonSchema": true,
       "metadata": {},
       "overflow": false,
       "plotOptions": {
        "customPlotOptions": {},
        "displayType": "table",
        "pivotAggregation": null,
        "pivotColumns": null,
        "xColumns": null,
        "yColumns": null
       },
       "removedWidgets": [],
       "schema": [
        {
         "metadata": "{}",
         "name": "GRADE",
         "type": "\"string\""
        },
        {
         "metadata": "{}",
         "name": "ROll_NO",
         "type": "\"long\""
        },
        {
         "metadata": "{}",
         "name": "Date",
         "type": "\"date\""
        },
        {
         "metadata": "{}",
         "name": "MARKS",
         "type": "\"long\""
        }
       ],
       "type": "table"
      }
     },
     "output_type": "display_data"
    }
   ],
   "source": [
    "from pyspark.sql import SparkSession\n",
    "from pyspark.sql import DataFrame\n",
    "from pyspark.sql.functions import *\n",
    "\n",
    "spark= SparkSession.builder.appName('task_1').getOrCreate()\n",
    "\n",
    "# data = [(10,),\n",
    "#         (20,),\n",
    "#         (20,),\n",
    "#         (30,),\n",
    "#         (30,),\n",
    "#         (30,),\n",
    "#         (40,),\n",
    "#         (40,),\n",
    "#         (40,),\n",
    "#         (40,),\n",
    "#         ]\n",
    "# df= spark.createDataFrame(data,['MARKS'])\n",
    "\n",
    "data=[\n",
    "    ('A',1,'5/23/2003',100),\n",
    "    ('B',2,'5/23/2003',200),\n",
    "    ('A',4,'5/23/2003',200),\n",
    "    ('B',3,'5/22/2003',200),\n",
    "    ('A',5,'5/21/2003',500)\n",
    "]\n",
    "df= spark.createDataFrame(data,['GRADE','ROll_NO','DATE','MARKS'])\n",
    "df = df.withColumn(\"Date\", to_date(\"DATE\", \"M/d/yyyy\"))\n",
    "# sorted_df2 = df.orderBy(\"Date\")\n",
    "display(df)"
   ]
  },
  {
   "cell_type": "code",
   "execution_count": 0,
   "metadata": {
    "application/vnd.databricks.v1+cell": {
     "cellMetadata": {
      "byteLimit": 2048000,
      "rowLimit": 10000
     },
     "inputWidgets": {},
     "nuid": "0702954e-77bb-4a16-ade0-1ffe4443f05f",
     "showTitle": false,
     "title": ""
    }
   },
   "outputs": [
    {
     "output_type": "stream",
     "name": "stdout",
     "output_type": "stream",
     "text": [
      "+-----+-----+\n|GRADE|count|\n+-----+-----+\n|    A|    3|\n|    B|    2|\n+-----+-----+\n\nColumn<'format_number(((count / 5) * 100), 1)'>\nColumn<'concat(GRADE,  - , format_number(((count / 5) * 100), 1), %)'>\n+---------+-----+\n|    GRADE|count|\n+---------+-----+\n|A - 60.0%|    3|\n|B - 40.0%|    2|\n+---------+-----+\n\n+---------+\n|    GRADE|\n+---------+\n|A - 60.0%|\n|B - 40.0%|\n+---------+\n\n+---------+---+\n|    GRADE| ID|\n+---------+---+\n|A - 60.0%|  0|\n|B - 40.0%|  1|\n+---------+---+\n\n-----------------------------\n+-------+-----+\n|ROll_NO|count|\n+-------+-----+\n|      1|    1|\n|      2|    1|\n|      3|    1|\n|      4|    1|\n|      5|    1|\n+-------+-----+\n\nColumn<'format_number(((count / 5) * 100), 1)'>\nColumn<'concat(ROll_NO,  - , format_number(((count / 5) * 100), 1), %)'>\n+---------+-----+\n|  ROll_NO|count|\n+---------+-----+\n|1 - 20.0%|    1|\n|2 - 20.0%|    1|\n|3 - 20.0%|    1|\n|4 - 20.0%|    1|\n|5 - 20.0%|    1|\n+---------+-----+\n\n+---------+\n|  ROll_NO|\n+---------+\n|1 - 20.0%|\n|2 - 20.0%|\n|3 - 20.0%|\n|4 - 20.0%|\n|5 - 20.0%|\n+---------+\n\n+---------+---+\n|  ROll_NO| ID|\n+---------+---+\n|1 - 20.0%|  0|\n|2 - 20.0%|  1|\n|3 - 20.0%|  2|\n|4 - 20.0%|  3|\n|5 - 20.0%|  4|\n+---------+---+\n\n-----------------------------\n+----------+-----+\n|      Date|count|\n+----------+-----+\n|2003-05-23|    3|\n|2003-05-21|    1|\n|2003-05-22|    1|\n+----------+-----+\n\nColumn<'format_number(((count / 5) * 100), 1)'>\nColumn<'concat(Date,  - , format_number(((count / 5) * 100), 1), %)'>\n+------------------+-----+\n|              Date|count|\n+------------------+-----+\n|2003-05-23 - 60.0%|    3|\n|2003-05-21 - 20.0%|    1|\n|2003-05-22 - 20.0%|    1|\n+------------------+-----+\n\n+------------------+\n|              Date|\n+------------------+\n|2003-05-23 - 60.0%|\n|2003-05-21 - 20.0%|\n|2003-05-22 - 20.0%|\n+------------------+\n\n+------------------+---+\n|              Date| ID|\n+------------------+---+\n|2003-05-23 - 60.0%|  0|\n|2003-05-21 - 20.0%|  1|\n|2003-05-22 - 20.0%|  2|\n+------------------+---+\n\n-----------------------------\n+-----+-----+\n|MARKS|count|\n+-----+-----+\n|  200|    3|\n|  100|    1|\n|  500|    1|\n+-----+-----+\n\nColumn<'format_number(((count / 5) * 100), 1)'>\nColumn<'concat(MARKS,  - , format_number(((count / 5) * 100), 1), %)'>\n+-----------+-----+\n|      MARKS|count|\n+-----------+-----+\n|200 - 60.0%|    3|\n|100 - 20.0%|    1|\n|500 - 20.0%|    1|\n+-----------+-----+\n\n+-----------+\n|      MARKS|\n+-----------+\n|200 - 60.0%|\n|100 - 20.0%|\n|500 - 20.0%|\n+-----------+\n\n+-----------+---+\n|      MARKS| ID|\n+-----------+---+\n|200 - 60.0%|  0|\n|100 - 20.0%|  1|\n|500 - 20.0%|  2|\n+-----------+---+\n\n-----------------------------\n"
     ]
    },
    {
     "output_type": "display_data",
     "data": {
      "text/html": [
       "<style scoped>\n",
       "  .table-result-container {\n",
       "    max-height: 300px;\n",
       "    overflow: auto;\n",
       "  }\n",
       "  table, th, td {\n",
       "    border: 1px solid black;\n",
       "    border-collapse: collapse;\n",
       "  }\n",
       "  th, td {\n",
       "    padding: 5px;\n",
       "  }\n",
       "  th {\n",
       "    text-align: left;\n",
       "  }\n",
       "</style><div class='table-result-container'><table class='table-result'><thead style='background-color: white'><tr><th>GRADE</th><th>ROll_NO</th><th>Date</th><th>MARKS</th></tr></thead><tbody><tr><td>A - 60.0%</td><td>1 - 20.0%</td><td>2003-05-23 - 60.0%</td><td>200 - 60.0%</td></tr><tr><td>B - 40.0%</td><td>2 - 20.0%</td><td>2003-05-21 - 20.0%</td><td>100 - 20.0%</td></tr><tr><td>null</td><td>3 - 20.0%</td><td>2003-05-22 - 20.0%</td><td>500 - 20.0%</td></tr><tr><td>null</td><td>4 - 20.0%</td><td>null</td><td>null</td></tr><tr><td>null</td><td>5 - 20.0%</td><td>null</td><td>null</td></tr></tbody></table></div>"
      ]
     },
     "metadata": {
      "application/vnd.databricks.v1+output": {
       "addedWidgets": {},
       "aggData": [],
       "aggError": "",
       "aggOverflow": false,
       "aggSchema": [],
       "aggSeriesLimitReached": false,
       "aggType": "",
       "arguments": {},
       "columnCustomDisplayInfos": {},
       "data": [
        [
         "A - 60.0%",
         "1 - 20.0%",
         "2003-05-23 - 60.0%",
         "200 - 60.0%"
        ],
        [
         "B - 40.0%",
         "2 - 20.0%",
         "2003-05-21 - 20.0%",
         "100 - 20.0%"
        ],
        [
         null,
         "3 - 20.0%",
         "2003-05-22 - 20.0%",
         "500 - 20.0%"
        ],
        [
         null,
         "4 - 20.0%",
         null,
         null
        ],
        [
         null,
         "5 - 20.0%",
         null,
         null
        ]
       ],
       "datasetInfos": [],
       "dbfsResultPath": null,
       "isJsonSchema": true,
       "metadata": {},
       "overflow": false,
       "plotOptions": {
        "customPlotOptions": {},
        "displayType": "table",
        "pivotAggregation": null,
        "pivotColumns": null,
        "xColumns": null,
        "yColumns": null
       },
       "removedWidgets": [],
       "schema": [
        {
         "metadata": "{}",
         "name": "GRADE",
         "type": "\"string\""
        },
        {
         "metadata": "{}",
         "name": "ROll_NO",
         "type": "\"string\""
        },
        {
         "metadata": "{}",
         "name": "Date",
         "type": "\"string\""
        },
        {
         "metadata": "{}",
         "name": "MARKS",
         "type": "\"string\""
        }
       ],
       "type": "table"
      }
     },
     "output_type": "display_data"
    }
   ],
   "source": [
    "\n",
    "def transform_dataframe(input_df):\n",
    "\n",
    "    dfs = []\n",
    "    for i in input_df.columns:\n",
    "        id_count = input_df.groupBy(i).agg(count('*').alias('count'))\n",
    "        id_count_sorted = id_count.orderBy(['count', i], ascending=[False, True])\n",
    "        id_count_sorted.show()\n",
    "        percentage = format_number((id_count_sorted['count'] / input_df.count()) * 100, 1)\n",
    "        print(percentage)\n",
    "        percentage_with_percent = concat(i,lit(' - '),percentage, lit('%'))\n",
    "        print(percentage_with_percent)\n",
    "        value_count_df = id_count_sorted.withColumn(i, percentage_with_percent)\n",
    "        value_count_df.show()\n",
    "        value_count_df = value_count_df.select(i)\n",
    "        value_count_df.show()\n",
    "        value_count_df = value_count_df.withColumn(\"ID\", monotonically_increasing_id())\n",
    "        value_count_df.show()\n",
    "        dfs.append(value_count_df)\n",
    "        print('-----------------------------')\n",
    "        x = dfs[0]\n",
    "        for i in dfs[1:]:\n",
    "            x = x.join(i, \"ID\", \"full\")\n",
    "\n",
    "    #print(type(x))\n",
    "    return x.drop(\"ID\")\n",
    "\n",
    "transformed_df = transform_dataframe(df)\n",
    "\n",
    "display(transformed_df)\n"
   ]
  },
  {
   "cell_type": "code",
   "execution_count": 0,
   "metadata": {
    "application/vnd.databricks.v1+cell": {
     "cellMetadata": {
      "byteLimit": 2048000,
      "rowLimit": 10000
     },
     "inputWidgets": {},
     "nuid": "0a54d8cf-7505-457e-ba27-fd1fedcf84aa",
     "showTitle": false,
     "title": ""
    }
   },
   "outputs": [
    {
     "output_type": "stream",
     "name": "stdout",
     "output_type": "stream",
     "text": [
      "[20, 20, 20, 20, 20]\n"
     ]
    }
   ],
   "source": [
    "def find_top_10(numbers):\n",
    "\n",
    "    # Sort the numbers in descending order.\n",
    "    numbers.sort(reverse=True)\n",
    "\n",
    "    # Count the occurrences of each number\n",
    "    occurrences = {}\n",
    "    for num in numbers:\n",
    "        occurrences[num] = occurrences.get(num, 0) + 1\n",
    "\n",
    "    top_10 = []\n",
    "    seen = set()\n",
    "    for num in numbers:\n",
    "        if len(top_10) >= 1:\n",
    "            break\n",
    "        if num not in seen:\n",
    "            top_10.append(num)\n",
    "            seen.add(num)\n",
    "\n",
    "    result = []\n",
    "    for num in top_10:\n",
    "        result.extend([num] * occurrences[num])\n",
    "\n",
    "    return result\n",
    "\n",
    "numbers = [115, 113, 2, 111, 4, 117, 6, 8, 10, 9, 15, 20, 20,120]\n",
    "\n",
    "# Extend the list with additional numbers\n",
    "additional_numbers = list(range(21, 121))  # Adding numbers from 21 to 120\n",
    "numbers.extend(additional_numbers)\n",
    "numbers2=[60,40]\n",
    "numbers3=[20,20,20,20,20]\n",
    "# Find the top 10 values\n",
    "top_10 = find_top_10(numbers3)\n",
    "\n",
    "print(top_10)\n"
   ]
  },
  {
   "cell_type": "code",
   "execution_count": 0,
   "metadata": {
    "application/vnd.databricks.v1+cell": {
     "cellMetadata": {
      "byteLimit": 2048000,
      "rowLimit": 10000
     },
     "inputWidgets": {},
     "nuid": "cd371a1a-b7e2-40ff-83a1-0ccaa2f6180c",
     "showTitle": false,
     "title": ""
    }
   },
   "outputs": [],
   "source": []
  }
 ],
 "metadata": {
  "application/vnd.databricks.v1+notebook": {
   "dashboards": [],
   "language": "python",
   "notebookMetadata": {
    "pythonIndentUnit": 4
   },
   "notebookName": "Feb_9_1",
   "widgets": {}
  }
 },
 "nbformat": 4,
 "nbformat_minor": 0
}
